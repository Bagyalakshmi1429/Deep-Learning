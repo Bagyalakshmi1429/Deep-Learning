{
  "nbformat": 4,
  "nbformat_minor": 0,
  "metadata": {
    "colab": {
      "provenance": [],
      "authorship_tag": "ABX9TyP8uo4blozmxGSfwVmCaHaH",
      "include_colab_link": true
    },
    "kernelspec": {
      "name": "python3",
      "display_name": "Python 3"
    },
    "language_info": {
      "name": "python"
    }
  },
  "cells": [
    {
      "cell_type": "markdown",
      "metadata": {
        "id": "view-in-github",
        "colab_type": "text"
      },
      "source": [
        "<a href=\"https://colab.research.google.com/github/Bagyalakshmi1429/Deep-Learning/blob/main/2348508_lab2_dl.ipynb\" target=\"_parent\"><img src=\"https://colab.research.google.com/assets/colab-badge.svg\" alt=\"Open In Colab\"/></a>"
      ]
    },
    {
      "cell_type": "code",
      "execution_count": 1,
      "metadata": {
        "id": "m7VjNjVH7cZj"
      },
      "outputs": [],
      "source": [
        "import pandas as pd\n",
        "import numpy as np\n",
        "import matplotlib.pyplot as pyplot\n",
        "import seaborn as sns"
      ]
    },
    {
      "cell_type": "code",
      "source": [
        "df = pd.read_csv(\"/content/final_data.csv\")"
      ],
      "metadata": {
        "id": "hVnNaMcHo71t"
      },
      "execution_count": 2,
      "outputs": []
    },
    {
      "cell_type": "code",
      "source": [
        "df.head()"
      ],
      "metadata": {
        "colab": {
          "base_uri": "https://localhost:8080/",
          "height": 310
        },
        "id": "R755a0Wpo74J",
        "outputId": "97fe95e8-4050-4b89-c1b1-4c95bf3110bb"
      },
      "execution_count": 3,
      "outputs": [
        {
          "output_type": "execute_result",
          "data": {
            "text/plain": [
              "   Unnamed: 0  TRANSACTION_ID          TX_DATETIME  CUSTOMER_ID  TERMINAL_ID  \\\n",
              "0           0               0  2018-04-01 00:00:31        596.0       3156.0   \n",
              "1           1               1  2018-04-01 00:02:10       4961.0       3412.0   \n",
              "2           2               2  2018-04-01 00:07:56          2.0       1365.0   \n",
              "3           3               3  2018-04-01 00:09:29       4128.0       8737.0   \n",
              "4           4               4  2018-04-01 00:10:34        927.0       9906.0   \n",
              "\n",
              "   TX_AMOUNT  TX_TIME_SECONDS  TX_TIME_DAYS  TX_FRAUD  TX_FRAUD_SCENARIO  \n",
              "0      57.16             31.0           0.0       0.0                0.0  \n",
              "1      81.51            130.0           0.0       0.0                0.0  \n",
              "2     146.00            476.0           0.0       0.0                0.0  \n",
              "3      64.49            569.0           0.0       0.0                0.0  \n",
              "4      50.99            634.0           0.0       0.0                0.0  "
            ],
            "text/html": [
              "\n",
              "  <div id=\"df-b077b366-c248-4418-b182-1ebb493098b5\" class=\"colab-df-container\">\n",
              "    <div>\n",
              "<style scoped>\n",
              "    .dataframe tbody tr th:only-of-type {\n",
              "        vertical-align: middle;\n",
              "    }\n",
              "\n",
              "    .dataframe tbody tr th {\n",
              "        vertical-align: top;\n",
              "    }\n",
              "\n",
              "    .dataframe thead th {\n",
              "        text-align: right;\n",
              "    }\n",
              "</style>\n",
              "<table border=\"1\" class=\"dataframe\">\n",
              "  <thead>\n",
              "    <tr style=\"text-align: right;\">\n",
              "      <th></th>\n",
              "      <th>Unnamed: 0</th>\n",
              "      <th>TRANSACTION_ID</th>\n",
              "      <th>TX_DATETIME</th>\n",
              "      <th>CUSTOMER_ID</th>\n",
              "      <th>TERMINAL_ID</th>\n",
              "      <th>TX_AMOUNT</th>\n",
              "      <th>TX_TIME_SECONDS</th>\n",
              "      <th>TX_TIME_DAYS</th>\n",
              "      <th>TX_FRAUD</th>\n",
              "      <th>TX_FRAUD_SCENARIO</th>\n",
              "    </tr>\n",
              "  </thead>\n",
              "  <tbody>\n",
              "    <tr>\n",
              "      <th>0</th>\n",
              "      <td>0</td>\n",
              "      <td>0</td>\n",
              "      <td>2018-04-01 00:00:31</td>\n",
              "      <td>596.0</td>\n",
              "      <td>3156.0</td>\n",
              "      <td>57.16</td>\n",
              "      <td>31.0</td>\n",
              "      <td>0.0</td>\n",
              "      <td>0.0</td>\n",
              "      <td>0.0</td>\n",
              "    </tr>\n",
              "    <tr>\n",
              "      <th>1</th>\n",
              "      <td>1</td>\n",
              "      <td>1</td>\n",
              "      <td>2018-04-01 00:02:10</td>\n",
              "      <td>4961.0</td>\n",
              "      <td>3412.0</td>\n",
              "      <td>81.51</td>\n",
              "      <td>130.0</td>\n",
              "      <td>0.0</td>\n",
              "      <td>0.0</td>\n",
              "      <td>0.0</td>\n",
              "    </tr>\n",
              "    <tr>\n",
              "      <th>2</th>\n",
              "      <td>2</td>\n",
              "      <td>2</td>\n",
              "      <td>2018-04-01 00:07:56</td>\n",
              "      <td>2.0</td>\n",
              "      <td>1365.0</td>\n",
              "      <td>146.00</td>\n",
              "      <td>476.0</td>\n",
              "      <td>0.0</td>\n",
              "      <td>0.0</td>\n",
              "      <td>0.0</td>\n",
              "    </tr>\n",
              "    <tr>\n",
              "      <th>3</th>\n",
              "      <td>3</td>\n",
              "      <td>3</td>\n",
              "      <td>2018-04-01 00:09:29</td>\n",
              "      <td>4128.0</td>\n",
              "      <td>8737.0</td>\n",
              "      <td>64.49</td>\n",
              "      <td>569.0</td>\n",
              "      <td>0.0</td>\n",
              "      <td>0.0</td>\n",
              "      <td>0.0</td>\n",
              "    </tr>\n",
              "    <tr>\n",
              "      <th>4</th>\n",
              "      <td>4</td>\n",
              "      <td>4</td>\n",
              "      <td>2018-04-01 00:10:34</td>\n",
              "      <td>927.0</td>\n",
              "      <td>9906.0</td>\n",
              "      <td>50.99</td>\n",
              "      <td>634.0</td>\n",
              "      <td>0.0</td>\n",
              "      <td>0.0</td>\n",
              "      <td>0.0</td>\n",
              "    </tr>\n",
              "  </tbody>\n",
              "</table>\n",
              "</div>\n",
              "    <div class=\"colab-df-buttons\">\n",
              "\n",
              "  <div class=\"colab-df-container\">\n",
              "    <button class=\"colab-df-convert\" onclick=\"convertToInteractive('df-b077b366-c248-4418-b182-1ebb493098b5')\"\n",
              "            title=\"Convert this dataframe to an interactive table.\"\n",
              "            style=\"display:none;\">\n",
              "\n",
              "  <svg xmlns=\"http://www.w3.org/2000/svg\" height=\"24px\" viewBox=\"0 -960 960 960\">\n",
              "    <path d=\"M120-120v-720h720v720H120Zm60-500h600v-160H180v160Zm220 220h160v-160H400v160Zm0 220h160v-160H400v160ZM180-400h160v-160H180v160Zm440 0h160v-160H620v160ZM180-180h160v-160H180v160Zm440 0h160v-160H620v160Z\"/>\n",
              "  </svg>\n",
              "    </button>\n",
              "\n",
              "  <style>\n",
              "    .colab-df-container {\n",
              "      display:flex;\n",
              "      gap: 12px;\n",
              "    }\n",
              "\n",
              "    .colab-df-convert {\n",
              "      background-color: #E8F0FE;\n",
              "      border: none;\n",
              "      border-radius: 50%;\n",
              "      cursor: pointer;\n",
              "      display: none;\n",
              "      fill: #1967D2;\n",
              "      height: 32px;\n",
              "      padding: 0 0 0 0;\n",
              "      width: 32px;\n",
              "    }\n",
              "\n",
              "    .colab-df-convert:hover {\n",
              "      background-color: #E2EBFA;\n",
              "      box-shadow: 0px 1px 2px rgba(60, 64, 67, 0.3), 0px 1px 3px 1px rgba(60, 64, 67, 0.15);\n",
              "      fill: #174EA6;\n",
              "    }\n",
              "\n",
              "    .colab-df-buttons div {\n",
              "      margin-bottom: 4px;\n",
              "    }\n",
              "\n",
              "    [theme=dark] .colab-df-convert {\n",
              "      background-color: #3B4455;\n",
              "      fill: #D2E3FC;\n",
              "    }\n",
              "\n",
              "    [theme=dark] .colab-df-convert:hover {\n",
              "      background-color: #434B5C;\n",
              "      box-shadow: 0px 1px 3px 1px rgba(0, 0, 0, 0.15);\n",
              "      filter: drop-shadow(0px 1px 2px rgba(0, 0, 0, 0.3));\n",
              "      fill: #FFFFFF;\n",
              "    }\n",
              "  </style>\n",
              "\n",
              "    <script>\n",
              "      const buttonEl =\n",
              "        document.querySelector('#df-b077b366-c248-4418-b182-1ebb493098b5 button.colab-df-convert');\n",
              "      buttonEl.style.display =\n",
              "        google.colab.kernel.accessAllowed ? 'block' : 'none';\n",
              "\n",
              "      async function convertToInteractive(key) {\n",
              "        const element = document.querySelector('#df-b077b366-c248-4418-b182-1ebb493098b5');\n",
              "        const dataTable =\n",
              "          await google.colab.kernel.invokeFunction('convertToInteractive',\n",
              "                                                    [key], {});\n",
              "        if (!dataTable) return;\n",
              "\n",
              "        const docLinkHtml = 'Like what you see? Visit the ' +\n",
              "          '<a target=\"_blank\" href=https://colab.research.google.com/notebooks/data_table.ipynb>data table notebook</a>'\n",
              "          + ' to learn more about interactive tables.';\n",
              "        element.innerHTML = '';\n",
              "        dataTable['output_type'] = 'display_data';\n",
              "        await google.colab.output.renderOutput(dataTable, element);\n",
              "        const docLink = document.createElement('div');\n",
              "        docLink.innerHTML = docLinkHtml;\n",
              "        element.appendChild(docLink);\n",
              "      }\n",
              "    </script>\n",
              "  </div>\n",
              "\n",
              "\n",
              "<div id=\"df-d03a3052-55b8-4508-969a-c02011dba403\">\n",
              "  <button class=\"colab-df-quickchart\" onclick=\"quickchart('df-d03a3052-55b8-4508-969a-c02011dba403')\"\n",
              "            title=\"Suggest charts\"\n",
              "            style=\"display:none;\">\n",
              "\n",
              "<svg xmlns=\"http://www.w3.org/2000/svg\" height=\"24px\"viewBox=\"0 0 24 24\"\n",
              "     width=\"24px\">\n",
              "    <g>\n",
              "        <path d=\"M19 3H5c-1.1 0-2 .9-2 2v14c0 1.1.9 2 2 2h14c1.1 0 2-.9 2-2V5c0-1.1-.9-2-2-2zM9 17H7v-7h2v7zm4 0h-2V7h2v10zm4 0h-2v-4h2v4z\"/>\n",
              "    </g>\n",
              "</svg>\n",
              "  </button>\n",
              "\n",
              "<style>\n",
              "  .colab-df-quickchart {\n",
              "      --bg-color: #E8F0FE;\n",
              "      --fill-color: #1967D2;\n",
              "      --hover-bg-color: #E2EBFA;\n",
              "      --hover-fill-color: #174EA6;\n",
              "      --disabled-fill-color: #AAA;\n",
              "      --disabled-bg-color: #DDD;\n",
              "  }\n",
              "\n",
              "  [theme=dark] .colab-df-quickchart {\n",
              "      --bg-color: #3B4455;\n",
              "      --fill-color: #D2E3FC;\n",
              "      --hover-bg-color: #434B5C;\n",
              "      --hover-fill-color: #FFFFFF;\n",
              "      --disabled-bg-color: #3B4455;\n",
              "      --disabled-fill-color: #666;\n",
              "  }\n",
              "\n",
              "  .colab-df-quickchart {\n",
              "    background-color: var(--bg-color);\n",
              "    border: none;\n",
              "    border-radius: 50%;\n",
              "    cursor: pointer;\n",
              "    display: none;\n",
              "    fill: var(--fill-color);\n",
              "    height: 32px;\n",
              "    padding: 0;\n",
              "    width: 32px;\n",
              "  }\n",
              "\n",
              "  .colab-df-quickchart:hover {\n",
              "    background-color: var(--hover-bg-color);\n",
              "    box-shadow: 0 1px 2px rgba(60, 64, 67, 0.3), 0 1px 3px 1px rgba(60, 64, 67, 0.15);\n",
              "    fill: var(--button-hover-fill-color);\n",
              "  }\n",
              "\n",
              "  .colab-df-quickchart-complete:disabled,\n",
              "  .colab-df-quickchart-complete:disabled:hover {\n",
              "    background-color: var(--disabled-bg-color);\n",
              "    fill: var(--disabled-fill-color);\n",
              "    box-shadow: none;\n",
              "  }\n",
              "\n",
              "  .colab-df-spinner {\n",
              "    border: 2px solid var(--fill-color);\n",
              "    border-color: transparent;\n",
              "    border-bottom-color: var(--fill-color);\n",
              "    animation:\n",
              "      spin 1s steps(1) infinite;\n",
              "  }\n",
              "\n",
              "  @keyframes spin {\n",
              "    0% {\n",
              "      border-color: transparent;\n",
              "      border-bottom-color: var(--fill-color);\n",
              "      border-left-color: var(--fill-color);\n",
              "    }\n",
              "    20% {\n",
              "      border-color: transparent;\n",
              "      border-left-color: var(--fill-color);\n",
              "      border-top-color: var(--fill-color);\n",
              "    }\n",
              "    30% {\n",
              "      border-color: transparent;\n",
              "      border-left-color: var(--fill-color);\n",
              "      border-top-color: var(--fill-color);\n",
              "      border-right-color: var(--fill-color);\n",
              "    }\n",
              "    40% {\n",
              "      border-color: transparent;\n",
              "      border-right-color: var(--fill-color);\n",
              "      border-top-color: var(--fill-color);\n",
              "    }\n",
              "    60% {\n",
              "      border-color: transparent;\n",
              "      border-right-color: var(--fill-color);\n",
              "    }\n",
              "    80% {\n",
              "      border-color: transparent;\n",
              "      border-right-color: var(--fill-color);\n",
              "      border-bottom-color: var(--fill-color);\n",
              "    }\n",
              "    90% {\n",
              "      border-color: transparent;\n",
              "      border-bottom-color: var(--fill-color);\n",
              "    }\n",
              "  }\n",
              "</style>\n",
              "\n",
              "  <script>\n",
              "    async function quickchart(key) {\n",
              "      const quickchartButtonEl =\n",
              "        document.querySelector('#' + key + ' button');\n",
              "      quickchartButtonEl.disabled = true;  // To prevent multiple clicks.\n",
              "      quickchartButtonEl.classList.add('colab-df-spinner');\n",
              "      try {\n",
              "        const charts = await google.colab.kernel.invokeFunction(\n",
              "            'suggestCharts', [key], {});\n",
              "      } catch (error) {\n",
              "        console.error('Error during call to suggestCharts:', error);\n",
              "      }\n",
              "      quickchartButtonEl.classList.remove('colab-df-spinner');\n",
              "      quickchartButtonEl.classList.add('colab-df-quickchart-complete');\n",
              "    }\n",
              "    (() => {\n",
              "      let quickchartButtonEl =\n",
              "        document.querySelector('#df-d03a3052-55b8-4508-969a-c02011dba403 button');\n",
              "      quickchartButtonEl.style.display =\n",
              "        google.colab.kernel.accessAllowed ? 'block' : 'none';\n",
              "    })();\n",
              "  </script>\n",
              "</div>\n",
              "    </div>\n",
              "  </div>\n"
            ],
            "application/vnd.google.colaboratory.intrinsic+json": {
              "type": "dataframe",
              "variable_name": "df",
              "repr_error": "'str' object has no attribute 'empty'"
            }
          },
          "metadata": {},
          "execution_count": 3
        }
      ]
    },
    {
      "cell_type": "code",
      "source": [
        "df.shape"
      ],
      "metadata": {
        "colab": {
          "base_uri": "https://localhost:8080/"
        },
        "id": "tl1p-y_XpFgy",
        "outputId": "bc69484f-f07b-4fed-99fd-25c5d44b1f8b"
      },
      "execution_count": 4,
      "outputs": [
        {
          "output_type": "execute_result",
          "data": {
            "text/plain": [
              "(51594, 10)"
            ]
          },
          "metadata": {},
          "execution_count": 4
        }
      ]
    },
    {
      "cell_type": "code",
      "source": [
        "df.columns"
      ],
      "metadata": {
        "colab": {
          "base_uri": "https://localhost:8080/"
        },
        "id": "SyAFWyPxpxfw",
        "outputId": "b639f048-87c1-4d2f-e347-b8d902bdff15"
      },
      "execution_count": 7,
      "outputs": [
        {
          "output_type": "execute_result",
          "data": {
            "text/plain": [
              "Index(['Unnamed: 0', 'TRANSACTION_ID', 'TX_DATETIME', 'CUSTOMER_ID',\n",
              "       'TERMINAL_ID', 'TX_AMOUNT', 'TX_TIME_SECONDS', 'TX_TIME_DAYS',\n",
              "       'TX_FRAUD', 'TX_FRAUD_SCENARIO'],\n",
              "      dtype='object')"
            ]
          },
          "metadata": {},
          "execution_count": 7
        }
      ]
    },
    {
      "cell_type": "code",
      "source": [
        "# Import necessary libraries\n",
        "import pandas as pd\n",
        "import numpy as np\n",
        "from sklearn.model_selection import train_test_split\n",
        "from sklearn.preprocessing import StandardScaler, LabelEncoder\n",
        "from sklearn.impute import SimpleImputer\n",
        "from keras.models import Sequential\n",
        "from keras.layers import Dense\n",
        "from keras.optimizers import Adam, SGD\n",
        "from sklearn.metrics import accuracy_score, precision_score, recall_score, f1_score, roc_auc_score\n",
        "from sklearn.metrics import confusion_matrix, precision_recall_curve\n",
        "import matplotlib.pyplot as plt\n"
      ],
      "metadata": {
        "id": "zPWsvWm_pH7w"
      },
      "execution_count": 5,
      "outputs": []
    },
    {
      "cell_type": "code",
      "source": [
        "# Data Preprocessing\n",
        "# Scaling numerical features\n",
        "scaler = StandardScaler()\n",
        "numerical_features = ['TX_AMOUNT', 'TX_TIME_SECONDS']\n",
        "df[numerical_features] = scaler.fit_transform(df[numerical_features])"
      ],
      "metadata": {
        "id": "rHjZ5izapl4w"
      },
      "execution_count": 8,
      "outputs": []
    },
    {
      "cell_type": "code",
      "source": [
        "# Handling missing values (if any)\n",
        "imputer = SimpleImputer(strategy='mean')\n",
        "df[numerical_features] = imputer.fit_transform(df[numerical_features])"
      ],
      "metadata": {
        "id": "yhA_h8TFpl7U"
      },
      "execution_count": 9,
      "outputs": []
    },
    {
      "cell_type": "code",
      "source": [
        "# Encoding categorical features\n",
        "categorical_features = ['TX_FRAUD_SCENARIO']\n",
        "label_encoders = {}\n",
        "for feature in categorical_features:\n",
        "    label_encoders[feature] = LabelEncoder()\n",
        "    df[feature] = label_encoders[feature].fit_transform(df[feature])"
      ],
      "metadata": {
        "id": "9Zt2_FGwqHmj"
      },
      "execution_count": 10,
      "outputs": []
    },
    {
      "cell_type": "code",
      "source": [
        "# Splitting the dataset into training and testing\n",
        "X = df.drop(['TX_FRAUD', 'TRANSACTION_ID', 'TX_DATETIME', 'CUSTOMER_ID', 'TERMINAL_ID', 'TX_TIME_DAYS'], axis=1)\n",
        "y = df['TX_FRAUD']\n",
        "X_train, X_test, y_train, y_test = train_test_split(X, y, test_size=0.2, random_state=42)"
      ],
      "metadata": {
        "id": "B64ySRuNqHo-"
      },
      "execution_count": 11,
      "outputs": []
    },
    {
      "cell_type": "code",
      "source": [
        "# Model Development\n",
        "model = Sequential()\n",
        "model.add(Dense(32, input_dim=X_train.shape[1], activation='relu'))\n",
        "model.add(Dense(16, activation='relu'))\n",
        "model.add(Dense(1, activation='sigmoid'))"
      ],
      "metadata": {
        "id": "dcEUsTWGqHsb"
      },
      "execution_count": 12,
      "outputs": []
    },
    {
      "cell_type": "code",
      "source": [
        "# Training\n",
        "# Using Adam optimizer\n",
        "model.compile(loss='binary_crossentropy', optimizer=Adam(learning_rate=0.001), metrics=['accuracy'])\n",
        "model.fit(X_train, y_train, epochs=20, batch_size=64, validation_data=(X_test, y_test))\n"
      ],
      "metadata": {
        "colab": {
          "base_uri": "https://localhost:8080/"
        },
        "id": "Mb2QURIBqWAC",
        "outputId": "5e0ccd7e-f4c0-4926-f0f7-42700edcf5fd"
      },
      "execution_count": 13,
      "outputs": [
        {
          "output_type": "stream",
          "name": "stdout",
          "text": [
            "Epoch 1/20\n",
            "645/645 [==============================] - 4s 4ms/step - loss: nan - accuracy: 0.9767 - val_loss: nan - val_accuracy: 0.9985\n",
            "Epoch 2/20\n",
            "645/645 [==============================] - 2s 3ms/step - loss: nan - accuracy: 0.9983 - val_loss: nan - val_accuracy: 0.9985\n",
            "Epoch 3/20\n",
            "645/645 [==============================] - 1s 2ms/step - loss: nan - accuracy: 0.9983 - val_loss: nan - val_accuracy: 0.9985\n",
            "Epoch 4/20\n",
            "645/645 [==============================] - 2s 3ms/step - loss: nan - accuracy: 0.9983 - val_loss: nan - val_accuracy: 0.9985\n",
            "Epoch 5/20\n",
            "645/645 [==============================] - 2s 3ms/step - loss: nan - accuracy: 0.9983 - val_loss: nan - val_accuracy: 0.9985\n",
            "Epoch 6/20\n",
            "645/645 [==============================] - 1s 2ms/step - loss: nan - accuracy: 0.9983 - val_loss: nan - val_accuracy: 0.9985\n",
            "Epoch 7/20\n",
            "645/645 [==============================] - 3s 5ms/step - loss: nan - accuracy: 0.9983 - val_loss: nan - val_accuracy: 0.9985\n",
            "Epoch 8/20\n",
            "645/645 [==============================] - 3s 5ms/step - loss: nan - accuracy: 0.9983 - val_loss: nan - val_accuracy: 0.9985\n",
            "Epoch 9/20\n",
            "645/645 [==============================] - 5s 7ms/step - loss: nan - accuracy: 0.9983 - val_loss: nan - val_accuracy: 0.9985\n",
            "Epoch 10/20\n",
            "645/645 [==============================] - 2s 2ms/step - loss: nan - accuracy: 0.9983 - val_loss: nan - val_accuracy: 0.9985\n",
            "Epoch 11/20\n",
            "645/645 [==============================] - 1s 2ms/step - loss: nan - accuracy: 0.9983 - val_loss: nan - val_accuracy: 0.9985\n",
            "Epoch 12/20\n",
            "645/645 [==============================] - 2s 2ms/step - loss: nan - accuracy: 0.9983 - val_loss: nan - val_accuracy: 0.9985\n",
            "Epoch 13/20\n",
            "645/645 [==============================] - 2s 2ms/step - loss: nan - accuracy: 0.9983 - val_loss: nan - val_accuracy: 0.9985\n",
            "Epoch 14/20\n",
            "645/645 [==============================] - 1s 2ms/step - loss: nan - accuracy: 0.9983 - val_loss: nan - val_accuracy: 0.9985\n",
            "Epoch 15/20\n",
            "645/645 [==============================] - 1s 2ms/step - loss: nan - accuracy: 0.9983 - val_loss: nan - val_accuracy: 0.9985\n",
            "Epoch 16/20\n",
            "645/645 [==============================] - 2s 3ms/step - loss: nan - accuracy: 0.9983 - val_loss: nan - val_accuracy: 0.9985\n",
            "Epoch 17/20\n",
            "645/645 [==============================] - 2s 3ms/step - loss: nan - accuracy: 0.9983 - val_loss: nan - val_accuracy: 0.9985\n",
            "Epoch 18/20\n",
            "645/645 [==============================] - 1s 2ms/step - loss: nan - accuracy: 0.9983 - val_loss: nan - val_accuracy: 0.9985\n",
            "Epoch 19/20\n",
            "645/645 [==============================] - 1s 2ms/step - loss: nan - accuracy: 0.9983 - val_loss: nan - val_accuracy: 0.9985\n",
            "Epoch 20/20\n",
            "645/645 [==============================] - 1s 2ms/step - loss: nan - accuracy: 0.9983 - val_loss: nan - val_accuracy: 0.9985\n"
          ]
        },
        {
          "output_type": "execute_result",
          "data": {
            "text/plain": [
              "<keras.src.callbacks.History at 0x7ea53b27a1d0>"
            ]
          },
          "metadata": {},
          "execution_count": 13
        }
      ]
    },
    {
      "cell_type": "code",
      "source": [
        "# Using SGD optimizer\n",
        "model.compile(loss='binary_crossentropy', optimizer=SGD(learning_rate=0.01), metrics=['accuracy'])\n",
        "model.fit(X_train, y_train, epochs=20, batch_size=64, validation_data=(X_test, y_test))\n"
      ],
      "metadata": {
        "colab": {
          "base_uri": "https://localhost:8080/"
        },
        "id": "hu0c7IQSqWB6",
        "outputId": "97ebe346-388e-4ce7-c2f1-4cf439472ca9"
      },
      "execution_count": 14,
      "outputs": [
        {
          "output_type": "stream",
          "name": "stdout",
          "text": [
            "Epoch 1/20\n",
            "645/645 [==============================] - 3s 3ms/step - loss: nan - accuracy: 0.9983 - val_loss: nan - val_accuracy: 0.9985\n",
            "Epoch 2/20\n",
            "645/645 [==============================] - 2s 3ms/step - loss: nan - accuracy: 0.9983 - val_loss: nan - val_accuracy: 0.9985\n",
            "Epoch 3/20\n",
            "645/645 [==============================] - 1s 2ms/step - loss: nan - accuracy: 0.9983 - val_loss: nan - val_accuracy: 0.9985\n",
            "Epoch 4/20\n",
            "645/645 [==============================] - 2s 2ms/step - loss: nan - accuracy: 0.9983 - val_loss: nan - val_accuracy: 0.9985\n",
            "Epoch 5/20\n",
            "645/645 [==============================] - 1s 2ms/step - loss: nan - accuracy: 0.9983 - val_loss: nan - val_accuracy: 0.9985\n",
            "Epoch 6/20\n",
            "645/645 [==============================] - 1s 2ms/step - loss: nan - accuracy: 0.9983 - val_loss: nan - val_accuracy: 0.9985\n",
            "Epoch 7/20\n",
            "645/645 [==============================] - 2s 3ms/step - loss: nan - accuracy: 0.9983 - val_loss: nan - val_accuracy: 0.9985\n",
            "Epoch 8/20\n",
            "645/645 [==============================] - 5s 8ms/step - loss: nan - accuracy: 0.9983 - val_loss: nan - val_accuracy: 0.9985\n",
            "Epoch 9/20\n",
            "645/645 [==============================] - 2s 3ms/step - loss: nan - accuracy: 0.9983 - val_loss: nan - val_accuracy: 0.9985\n",
            "Epoch 10/20\n",
            "645/645 [==============================] - 2s 4ms/step - loss: nan - accuracy: 0.9983 - val_loss: nan - val_accuracy: 0.9985\n",
            "Epoch 11/20\n",
            "645/645 [==============================] - 1s 2ms/step - loss: nan - accuracy: 0.9983 - val_loss: nan - val_accuracy: 0.9985\n",
            "Epoch 12/20\n",
            "645/645 [==============================] - 3s 4ms/step - loss: nan - accuracy: 0.9983 - val_loss: nan - val_accuracy: 0.9985\n",
            "Epoch 13/20\n",
            "645/645 [==============================] - 5s 8ms/step - loss: nan - accuracy: 0.9983 - val_loss: nan - val_accuracy: 0.9985\n",
            "Epoch 14/20\n",
            "645/645 [==============================] - 2s 3ms/step - loss: nan - accuracy: 0.9983 - val_loss: nan - val_accuracy: 0.9985\n",
            "Epoch 15/20\n",
            "645/645 [==============================] - 3s 4ms/step - loss: nan - accuracy: 0.9983 - val_loss: nan - val_accuracy: 0.9985\n",
            "Epoch 16/20\n",
            "645/645 [==============================] - 2s 4ms/step - loss: nan - accuracy: 0.9983 - val_loss: nan - val_accuracy: 0.9985\n",
            "Epoch 17/20\n",
            "645/645 [==============================] - 2s 3ms/step - loss: nan - accuracy: 0.9983 - val_loss: nan - val_accuracy: 0.9985\n",
            "Epoch 18/20\n",
            "645/645 [==============================] - 2s 3ms/step - loss: nan - accuracy: 0.9983 - val_loss: nan - val_accuracy: 0.9985\n",
            "Epoch 19/20\n",
            "645/645 [==============================] - 2s 3ms/step - loss: nan - accuracy: 0.9983 - val_loss: nan - val_accuracy: 0.9985\n",
            "Epoch 20/20\n",
            "645/645 [==============================] - 1s 2ms/step - loss: nan - accuracy: 0.9983 - val_loss: nan - val_accuracy: 0.9985\n"
          ]
        },
        {
          "output_type": "execute_result",
          "data": {
            "text/plain": [
              "<keras.src.callbacks.History at 0x7ea52ba75330>"
            ]
          },
          "metadata": {},
          "execution_count": 14
        }
      ]
    },
    {
      "cell_type": "code",
      "source": [
        "# Evaluation and Validation\n",
        "# Evaluate the trained model\n",
        "y_pred = model.predict(X_test)\n",
        "y_pred = (y_pred > 0.5)  # Convert probabilities to binary predictions\n",
        "accuracy = accuracy_score(y_test, y_pred)\n",
        "precision = precision_score(y_test, y_pred)\n",
        "recall = recall_score(y_test, y_pred)\n",
        "f1 = f1_score(y_test, y_pred)\n",
        "roc_auc = roc_auc_score(y_test, y_pred)\n",
        "conf_matrix = confusion_matrix(y_test, y_pred)"
      ],
      "metadata": {
        "colab": {
          "base_uri": "https://localhost:8080/"
        },
        "id": "wQenWeRuqWFX",
        "outputId": "1f6d7e31-9011-43ab-8fcd-ccafdb9300af"
      },
      "execution_count": 15,
      "outputs": [
        {
          "output_type": "stream",
          "name": "stdout",
          "text": [
            "323/323 [==============================] - 1s 1ms/step\n"
          ]
        },
        {
          "output_type": "stream",
          "name": "stderr",
          "text": [
            "/usr/local/lib/python3.10/dist-packages/sklearn/metrics/_classification.py:1344: UndefinedMetricWarning: Precision is ill-defined and being set to 0.0 due to no predicted samples. Use `zero_division` parameter to control this behavior.\n",
            "  _warn_prf(average, modifier, msg_start, len(result))\n"
          ]
        }
      ]
    },
    {
      "cell_type": "code",
      "source": [
        "# Printing the evaluation metrics and confusion matrix\n",
        "print(\"Accuracy:\", accuracy)\n",
        "print(\"Precision:\", precision)\n",
        "print(\"Recall:\", recall)\n",
        "print(\"F1 Score:\", f1)\n",
        "print(\"ROC AUC Score:\", roc_auc)\n",
        "print(\"Confusion Matrix:\")\n",
        "print(conf_matrix)"
      ],
      "metadata": {
        "colab": {
          "base_uri": "https://localhost:8080/"
        },
        "id": "upsJ6SkBr_cy",
        "outputId": "c9cadf9a-b4b0-4327-cb4a-5c5e2c87679e"
      },
      "execution_count": 17,
      "outputs": [
        {
          "output_type": "stream",
          "name": "stdout",
          "text": [
            "Accuracy: 0.9985463707723616\n",
            "Precision: [0.00145363 1.        ]\n",
            "Recall: [1. 0.]\n",
            "F1 Score: 0.0\n",
            "ROC AUC Score: 0.5\n",
            "Confusion Matrix:\n",
            "[[10304     0]\n",
            " [   15     0]]\n"
          ]
        }
      ]
    },
    {
      "cell_type": "code",
      "source": [
        "\n",
        "# Plot Precision-Recall curve\n",
        "precision, recall, _ = precision_recall_curve(y_test, y_pred)\n",
        "plt.plot(recall, precision, marker='.')\n",
        "plt.xlabel('Recall')\n",
        "plt.ylabel('Precision')\n",
        "plt.show()"
      ],
      "metadata": {
        "colab": {
          "base_uri": "https://localhost:8080/",
          "height": 570
        },
        "id": "NNDVVc3Rpl9X",
        "outputId": "f868d546-6162-41a0-e6a3-068a8984563b"
      },
      "execution_count": 16,
      "outputs": [
        {
          "output_type": "display_data",
          "data": {
            "text/plain": [
              "<Figure size 640x480 with 1 Axes>"
            ],
            "image/png": "[encoded data removed]"
          },
          "metadata": {}
        },
        {
          "output_type": "execute_result",
          "data": {
            "text/plain": [
              "(0.9985463707723616,\n",
              " array([0.00145363, 1.        ]),\n",
              " array([1., 0.]),\n",
              " 0.0,\n",
              " 0.5,\n",
              " array([[10304,     0],\n",
              "        [   15,     0]]))"
            ]
          },
          "metadata": {},
          "execution_count": 16
        }
      ]
    },
    {
      "cell_type": "code",
      "source": [],
      "metadata": {
        "id": "aJDT_g9NpmwL"
      },
      "execution_count": null,
      "outputs": []
    },
    {
      "cell_type": "code",
      "source": [],
      "metadata": {
        "id": "7tZkLpJLpH_Z"
      },
      "execution_count": null,
      "outputs": []
    }
  ]
}