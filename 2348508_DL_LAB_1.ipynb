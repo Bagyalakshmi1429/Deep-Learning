{
  "nbformat": 4,
  "nbformat_minor": 0,
  "metadata": {
    "colab": {
      "provenance": [],
      "authorship_tag": "ABX9TyP+Mp3cmCeLiVfOyuSOV9wA",
      "include_colab_link": true
    },
    "kernelspec": {
      "name": "python3",
      "display_name": "Python 3"
    },
    "language_info": {
      "name": "python"
    }
  },
  "cells": [
    {
      "cell_type": "markdown",
      "metadata": {
        "id": "view-in-github",
        "colab_type": "text"
      },
      "source": [
        "<a href=\"https://colab.research.google.com/github/Bagyalakshmi1429/Deep-Learning/blob/main/2348508_DL_LAB_1.ipynb\" target=\"_parent\"><img src=\"https://colab.research.google.com/assets/colab-badge.svg\" alt=\"Open In Colab\"/></a>"
      ]
    },
    {
      "cell_type": "code",
      "execution_count": 4,
      "metadata": {
        "id": "7G_zdq8j8Wtp"
      },
      "outputs": [],
      "source": [
        "import numpy as np\n",
        "\n",
        "class Perceptron:\n",
        "    def __init__(self, input_size, learning_rate=0.1, epochs=1000):\n",
        "        self.weights = np.zeros(input_size + 1)  # Initialize weights, including bias\n",
        "        self.learning_rate = learning_rate\n",
        "        self.epochs = epochs\n",
        "\n",
        "    def predict(self, inputs):\n",
        "        summation = np.dot(self.weights, np.insert(inputs, 0, 1))  # Add bias term\n",
        "        return 1 if summation > 0 else 0\n",
        "\n",
        "    def train(self, training_data, target):\n",
        "        for epoch in range(self.epochs):\n",
        "            errors = 0\n",
        "            for inputs, target_output in zip(training_data, target):\n",
        "                prediction = self.predict(inputs)\n",
        "                error = target_output - prediction\n",
        "                errors += abs(error)\n",
        "                self.weights[1:] += self.learning_rate * error * np.array(inputs)\n",
        "                self.weights[0] += self.learning_rate * error  # Update bias weight\n",
        "\n",
        "            if errors == 0:\n",
        "                print(f\"Converged at epoch {epoch + 1}\")\n",
        "                break\n",
        "\n",
        "            if epoch == self.epochs - 1:\n",
        "                print(\"Perceptron did not converge within the specified number of epochs.\")\n",
        "\n"
      ]
    },
    {
      "cell_type": "code",
      "source": [
        "# AND function\n",
        "and_training_data = [\n",
        "    [0, 0],\n",
        "    [0, 1],\n",
        "    [1, 0],\n",
        "    [1, 1]\n",
        "]\n",
        "and_target = [0, 0, 0, 1]\n",
        "\n",
        "and_perceptron = Perceptron(input_size=2)\n",
        "and_perceptron.train(and_training_data, and_target)\n",
        "\n",
        "# Display results\n",
        "print(\"AND Function:\")\n",
        "for inputs, target in zip(and_training_data, and_target):\n",
        "    prediction = and_perceptron.predict(inputs)\n",
        "    print(f\"Inputs: {inputs}, Target: {target}, Prediction: {prediction}\")\n"
      ],
      "metadata": {
        "colab": {
          "base_uri": "https://localhost:8080/"
        },
        "id": "bwWLU7yr8Yja",
        "outputId": "f3607c7e-f98d-4709-b0f4-22e04c450db2"
      },
      "execution_count": 5,
      "outputs": [
        {
          "output_type": "stream",
          "name": "stdout",
          "text": [
            "Converged at epoch 6\n",
            "AND Function:\n",
            "Inputs: [0, 0], Target: 0, Prediction: 0\n",
            "Inputs: [0, 1], Target: 0, Prediction: 0\n",
            "Inputs: [1, 0], Target: 0, Prediction: 0\n",
            "Inputs: [1, 1], Target: 1, Prediction: 1\n"
          ]
        }
      ]
    },
    {
      "cell_type": "code",
      "source": [
        "# OR function\n",
        "or_training_data = [\n",
        "    [0, 0],\n",
        "    [0, 1],\n",
        "    [1, 0],\n",
        "    [1, 1]\n",
        "]\n",
        "or_target = [0, 1, 1, 1]\n",
        "\n",
        "or_perceptron = Perceptron(input_size=2)\n",
        "or_perceptron.train(or_training_data, or_target)\n",
        "\n",
        "# Display results\n",
        "print(\"\\nOR Function:\")\n",
        "for inputs, target in zip(or_training_data, or_target):\n",
        "    prediction = or_perceptron.predict(inputs)\n",
        "    print(f\"Inputs: {inputs}, Target: {target}, Prediction: {prediction}\")\n"
      ],
      "metadata": {
        "colab": {
          "base_uri": "https://localhost:8080/"
        },
        "id": "_XBCO6vv8ZFl",
        "outputId": "485be019-734c-453f-d0bb-003cb34e82a1"
      },
      "execution_count": 6,
      "outputs": [
        {
          "output_type": "stream",
          "name": "stdout",
          "text": [
            "Converged at epoch 4\n",
            "\n",
            "OR Function:\n",
            "Inputs: [0, 0], Target: 0, Prediction: 0\n",
            "Inputs: [0, 1], Target: 1, Prediction: 1\n",
            "Inputs: [1, 0], Target: 1, Prediction: 1\n",
            "Inputs: [1, 1], Target: 1, Prediction: 1\n"
          ]
        }
      ]
    },
    {
      "cell_type": "code",
      "source": [
        "# NAND function\n",
        "nand_training_data = [\n",
        "    [0, 0],\n",
        "    [0, 1],\n",
        "    [1, 0],\n",
        "    [1, 1]\n",
        "]\n",
        "nand_target = [1, 1, 1, 0]\n",
        "\n",
        "nand_perceptron = Perceptron(input_size=2)\n",
        "nand_perceptron.train(nand_training_data, nand_target)\n",
        "\n",
        "# Display results\n",
        "print(\"\\nNAND Function:\")\n",
        "for inputs, target in zip(nand_training_data, nand_target):\n",
        "    prediction = nand_perceptron.predict(inputs)\n",
        "    print(f\"Inputs: {inputs}, Target: {target}, Prediction: {prediction}\")\n"
      ],
      "metadata": {
        "colab": {
          "base_uri": "https://localhost:8080/"
        },
        "id": "0jWurkoW8ZH4",
        "outputId": "ddc0e921-ac72-4443-ac08-1f747f53e502"
      },
      "execution_count": 7,
      "outputs": [
        {
          "output_type": "stream",
          "name": "stdout",
          "text": [
            "Converged at epoch 4\n",
            "\n",
            "NAND Function:\n",
            "Inputs: [0, 0], Target: 1, Prediction: 1\n",
            "Inputs: [0, 1], Target: 1, Prediction: 1\n",
            "Inputs: [1, 0], Target: 1, Prediction: 1\n",
            "Inputs: [1, 1], Target: 0, Prediction: 0\n"
          ]
        }
      ]
    },
    {
      "cell_type": "code",
      "source": [
        "# XOR function\n",
        "xor_training_data = [\n",
        "    [0, 0],\n",
        "    [0, 1],\n",
        "    [1, 0],\n",
        "    [1, 1]\n",
        "]\n",
        "xor_target = [0, 1, 1, 0]\n",
        "\n",
        "xor_perceptron = Perceptron(input_size=2)\n",
        "xor_perceptron.train(xor_training_data, xor_target)\n",
        "\n",
        "# Display results\n",
        "print(\"\\nXOR Function:\")\n",
        "for inputs, target in zip(xor_training_data, xor_target):\n",
        "    prediction = xor_perceptron.predict(inputs)\n",
        "    print(f\"Inputs: {inputs}, Target: {target}, Prediction: {prediction}\")\n"
      ],
      "metadata": {
        "colab": {
          "base_uri": "https://localhost:8080/"
        },
        "id": "hL-3lqDB8ZLf",
        "outputId": "ec3169e2-b085-4c5f-884d-14dfd284d60d"
      },
      "execution_count": 8,
      "outputs": [
        {
          "output_type": "stream",
          "name": "stdout",
          "text": [
            "Perceptron did not converge within the specified number of epochs.\n",
            "\n",
            "XOR Function:\n",
            "Inputs: [0, 0], Target: 0, Prediction: 1\n",
            "Inputs: [0, 1], Target: 1, Prediction: 1\n",
            "Inputs: [1, 0], Target: 1, Prediction: 0\n",
            "Inputs: [1, 1], Target: 0, Prediction: 0\n"
          ]
        }
      ]
    }
  ]
}